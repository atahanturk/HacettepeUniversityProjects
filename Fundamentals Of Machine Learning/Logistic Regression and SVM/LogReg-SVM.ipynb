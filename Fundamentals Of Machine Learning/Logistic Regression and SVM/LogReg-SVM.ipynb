{
 "cells": [
  {
   "cell_type": "markdown",
   "id": "a766cec0",
   "metadata": {},
   "source": [
    "# ABDULLAH ATAHAN TÜRK"
   ]
  },
  {
   "cell_type": "markdown",
   "id": "34a3f324",
   "metadata": {},
   "source": [
    "# 21827943"
   ]
  },
  {
   "cell_type": "markdown",
   "id": "8172b8c3",
   "metadata": {},
   "source": [
    "# Logistic Regression and Support Vector Machine classifier"
   ]
  },
  {
   "cell_type": "markdown",
   "id": "74b38c57",
   "metadata": {},
   "source": [
    "### 1. Logistic Regression \n",
    "The __logistic function__ (which is more commonly called __sigmoid function__) basically maps an input to an output of values between 0 and 1. And it is defined as follows:\n",
    "$$y(z) = \\frac{1}{1+ exp(-z)}$$\n",
    "\n"
   ]
  },
  {
   "cell_type": "markdown",
   "id": "4b5ab87f",
   "metadata": {},
   "source": [
    "Logistic regression, by default, is limited to two-class classification problems. It cannot be used for classification tasks that have more than two class labels, so-called multi-class classification. Instead, it requires modification to support multi-class classification problems.\n",
    "\n",
    "__The multinomial logistic regression__ (often just called 'multinomial regression') algorithm is an extension to the logistic regression model that involves changing the loss function to cross-entropy loss and predict probability distribution to a multinomial probability distribution to natively support multi-class classification problems."
   ]
  },
  {
   "cell_type": "markdown",
   "id": "dbfb9dad",
   "metadata": {},
   "source": [
    "### 2. Support Vector Machine\n",
    "\n",
    "Support Vector Machines (or SVM) seek a line that best separates two classes. Those data instances that are closest to the line that best separates the classes are called support vectors and influence where the line is placed. SVM has been extended to support multiple classes.Of particular importance is the use of different kernel functions via the kernel parameter.\n",
    "\n",
    "Kernels can be used that transform the input space into higher dimensions such as a Polynomial Kernel and a Radial Kernel. This is called the Kernel Trick. It is desirable to use more complex kernels as it allows lines to separate the classes that are curved or even more complex. This in turn can lead to more accurate classifiers."
   ]
  },
  {
   "cell_type": "markdown",
   "id": "16a5f68b",
   "metadata": {},
   "source": [
    "### Assignment\n",
    "\n",
    "In this assignment, you are given a dataset comprising information about dinosaurs. You will use logistic regression and support vector machine models to predict the type of dinosaur based on the provided information. In this assignment, you may utilize built-in libraries. Employ _stratified k-fold cross-validation_ (CV) with 10 folds for evaluating the classification models. Stratification ensures that each CV fold maintains a similar distribution of class examples as the entire training set. You can design various experiments by selecting some/all information provided in the dataset. Here, we expect the best result you obtained after these experiments and observations. Please explicitly mention your feature selection method in your report while presenting results. \n"
   ]
  },
  {
   "cell_type": "markdown",
   "id": "8b2c396f",
   "metadata": {},
   "source": [
    "Stratified k-fold cross-validation is a technique used to evaluate the performance of machine learning models, particularly in classification tasks, where the target class distribution may be imbalanced. In this method, the dataset is divided into 'k' equally sized folds, ensuring that each fold maintains a similar distribution of class examples as the entire dataset. This stratification process helps to reduce the bias and variance in model performance estimation by preventing a skewed distribution of classes in the train and test sets.\n",
    "\n",
    "During the cross-validation process, the model is trained on 'k-1' folds and tested on the remaining fold, iterating this process 'k' times. Each iteration uses a different fold for testing, and the average performance metric (e.g., accuracy) is calculated over all iterations.\n",
    "\n",
    "Here's a code example using the scikit-learn library:\n"
   ]
  },
  {
   "cell_type": "markdown",
   "id": "eb920e7a",
   "metadata": {},
   "source": [
    "In this example, we use the Iris dataset and a logistic regression model to demonstrate stratified k-fold cross-validation with 5 folds. The performance of the model is evaluated using accuracy as the performance metric, and the mean accuracy is reported."
   ]
  },
  {
   "cell_type": "markdown",
   "id": "ab1422ff",
   "metadata": {},
   "source": [
    "Stratified cross-validation is particularly useful when dealing with imbalanced datasets, where some classes have significantly fewer examples compared to others. In such cases, using standard cross-validation might lead to situations where one or more folds contain very few or even none of the underrepresented class instances. This could result in an inaccurate and biased performance estimation of the model, as the model is not adequately tested on all classes.\n",
    "\n",
    "For balanced datasets, where class distributions are roughly equal, stratified cross-validation may not provide significant benefits over standard cross-validation. However, it is still a good practice to use stratified cross-validation as a default approach, as it generally leads to more stable and reliable performance estimates."
   ]
  },
  {
   "cell_type": "markdown",
   "id": "f9b44813",
   "metadata": {},
   "source": [
    "__Evaluation Metrics__: Provide _mean weighted F1 scores_ and a confusion matrix to evaluate and compare the performance of the classification models.\n",
    "\n",
    "Here is an example code how to compute mean weighted F1 score in k-fold cross-validation setting:"
   ]
  },
  {
   "cell_type": "markdown",
   "id": "c3801574",
   "metadata": {},
   "source": [
    "### Submissions"
   ]
  },
  {
   "cell_type": "markdown",
   "id": "184c3d75",
   "metadata": {},
   "source": [
    "\n",
    "After training your models with the data in _train.csv_, use the given _test.csv_ data for your predictions (predicted 'type' values); save it as csv file, and upload it to the Kaggle competition. Furthermore, you are supposed to upload your coding in Jupyter notebook to the department's submission system.\n",
    "\n",
    "Kaggle competition for logistic regression: https://www.kaggle.com/t/1aad2bcbe8c14b80918ec67ef7041c9b\n",
    "\n",
    "Kaggle competition for support vector machine: https://www.kaggle.com/t/f4f6aee930674ea3a86aada32d861cfa\n",
    "\n",
    "**Due Date**: 30.04.2023\n",
    "\n",
    "**Note**: The late submission rules previously announced from the piazza apply."
   ]
  },
  {
   "cell_type": "markdown",
   "id": "7c504cca",
   "metadata": {},
   "source": [
    "### Your Work"
   ]
  },
  {
   "cell_type": "code",
   "execution_count": 5,
   "id": "bfcf33e3",
   "metadata": {},
   "outputs": [
    {
     "name": "stdout",
     "output_type": "stream",
     "text": [
      "Mean accuracy for Logistic Regression: 0.9148333333333334\n",
      "Mean weighted-average F1-score across 10 folds for Logistic Regression: 0.9126157166907166\n",
      "Mean accuracy for SVM: 0.9308333333333334\n",
      "Mean weighted-average F1-score across 10 folds for SVM: 0.9274422068672068\n"
     ]
    },
    {
     "data": {
      "image/png": "[encoded data removed]",
      "text/plain": [
       "<Figure size 432x288 with 2 Axes>"
      ]
     },
     "metadata": {
      "needs_background": "light"
     },
     "output_type": "display_data"
    },
    {
     "data": {
      "image/png": "[encoded data removed]",
      "text/plain": [
       "<Figure size 432x288 with 2 Axes>"
      ]
     },
     "metadata": {
      "needs_background": "light"
     },
     "output_type": "display_data"
    }
   ],
   "source": [
    "#Include your codes below by including as many cells as necessary to clearly demonstrate your work\n",
    "#Please write your codes in separate sections for data pre-processing, Logistic Regression and SVM models etc.\n",
    "\n",
    "import numpy as np\n",
    "import pandas as pd\n",
    "from sklearn.model_selection import StratifiedKFold\n",
    "from sklearn.linear_model import LogisticRegression\n",
    "from sklearn.metrics import f1_score\n",
    "from sklearn.metrics import confusion_matrix\n",
    "from matplotlib import pyplot as plt\n",
    "from sklearn.svm import SVC\n",
    "\n",
    "\n",
    "df = pd.read_csv(\"train.csv\", delimiter=\",\")\n",
    "df = df.drop(\"link\", axis=1) #I drop some unnecessary columns.\n",
    "df = df.drop(\"named_by\", axis=1)\n",
    "df = df.drop(\"id\", axis=1)\n",
    "df[\"species\"] = df[\"species\"].fillna(1)\n",
    "#I didn't use the Species column anyway,\n",
    "#but nan values were causing problems for further processing when reading csv so I filled nan values in species.\n",
    "df[\"length\"] = df[\"length\"].str[:-1] #Convert from string to float\n",
    "df[\"length\"] = df[\"length\"].astype(float)\n",
    "mean_len = df[\"length\"].mean()\n",
    "mean_len = round(mean_len, 1)\n",
    "df[\"length\"] = df[\"length\"].fillna(mean_len) #There were some nan values, i filled them with mean.\n",
    "df[\"length\"] = df[\"length\"].astype(float)\n",
    "df[\"period\"] = df[\"period\"].str.replace(r'\\d+-\\d+', '', regex=True)\n",
    "df[\"period\"] = df[\"period\"].str.replace(r'\\d+', '', regex=True)\n",
    "df['period'] = df['period'].str.replace('  million years ago', '')\n",
    "df[\"taxonomy\"] = df[\"taxonomy\"].str.split().str[:6].str.join(' ')\n",
    "\n",
    "#In above, i did some preprocess on period and taxanomy. I edited period to get better feature results.\n",
    "#Also, in taxonomy i take first 6 words to get better results. Both of them worked well.\n",
    "#In below i did same things for the test.csv file\n",
    "\n",
    "testdf = pd.read_csv(\"test.csv\", delimiter=\",\")\n",
    "testdf[\"species\"] = testdf[\"species\"].fillna(1)\n",
    "testdf = testdf.drop(\"link\", axis=1)\n",
    "testdf = testdf.drop(\"named_by\", axis=1)\n",
    "testdf = testdf.drop(\"id\", axis=1)\n",
    "testdf[\"length\"] = testdf[\"length\"].str[:-1]\n",
    "testdf[\"length\"] = testdf[\"length\"].astype(float)\n",
    "testdf[\"length\"] = testdf[\"length\"].fillna(mean_len)\n",
    "testdf[\"length\"] = testdf[\"length\"].astype(int)\n",
    "testdf[\"period\"] = testdf[\"period\"].str.replace(r'\\d+-\\d+', '', regex=True)\n",
    "testdf[\"period\"] = testdf[\"period\"].str.replace(r'\\d+', '', regex=True)\n",
    "testdf['period'] = testdf['period'].str.replace('  million years ago', '')\n",
    "testdf[\"taxonomy\"] = testdf[\"taxonomy\"].str.split().str[:6].str.join(' ')\n",
    "\n",
    "#In below, i writed a function to convert string values to integer values.\n",
    "def string_to_number_df(column_name,data):\n",
    "    unique_values = set(data[column_name].unique())\n",
    "    mapping = {value: index + 1 for index, value in enumerate(sorted(unique_values))}\n",
    "    return mapping\n",
    "\n",
    "#There was some values as \"unknown\". They were just 3 or 4 values so i just filled them with ones.\n",
    "def convert_to_one(val):\n",
    "    if isinstance(val, str):\n",
    "        return 1\n",
    "    else:\n",
    "        return val\n",
    "\n",
    "#Below there is a dict for y label.\n",
    "df[\"type\"] = df[\"type\"].replace({'small theropod':1, 'sauropod':2, 'euornithopod':3, \"large theropod\":4, \"armoured dinosaur\":5, \"ceratopsian\":6})\n",
    "\n",
    "map_diet = string_to_number_df(\"diet\",df)\n",
    "map_period = string_to_number_df(\"period\",df)\n",
    "map_lived = string_to_number_df(\"lived_in\",df)\n",
    "map_taxo = string_to_number_df(\"taxonomy\",df)\n",
    "\n",
    "df[\"diet\"] = df[\"diet\"].replace(map_diet)\n",
    "df[\"period\"] = df[\"period\"].replace(map_period)\n",
    "df[\"lived_in\"] = df[\"lived_in\"].replace(map_lived)\n",
    "df[\"taxonomy\"] = df[\"taxonomy\"].replace(map_taxo)\n",
    "\n",
    "testdf[\"diet\"] = testdf[\"diet\"].replace(map_diet)\n",
    "testdf[\"period\"] = testdf[\"period\"].replace(map_period)\n",
    "testdf[\"lived_in\"] = testdf[\"lived_in\"].replace(map_lived)\n",
    "testdf[\"taxonomy\"] = testdf[\"taxonomy\"].replace(map_taxo)\n",
    "testdf[\"lived_in\"] = testdf[\"lived_in\"].fillna(1)\n",
    "\n",
    "y = df[\"type\"]\n",
    "X = df[[\"diet\", \"period\", \"length\", \"taxonomy\"]] #I dropped some columns to get better mean accuracy.\n",
    "X_array = X.values\n",
    "y_array = y.values\n",
    "skf = StratifiedKFold(n_splits=10) #As mentioned, i split 10 folds.\n",
    "model = LogisticRegression(multi_class=\"multinomial\", solver=\"lbfgs\",max_iter=2000)\n",
    "# I did 2000 iters to avoid from convergence warning. Best worked solver is lbfgs.\n",
    "# Below, i implemented multinomial regression and calculate accuracy and f1. I calculated confussion matrix at the end.\n",
    "accuracy_scores = []\n",
    "f1_scores = []\n",
    "confs = np.zeros((6,6))\n",
    "for train_index, test_index in skf.split(X_array, y_array):\n",
    "    X_train, X_test = X_array[train_index], X_array[test_index]\n",
    "    y_train, y_test = y_array[train_index], y_array[test_index]\n",
    "    model.fit(X_train, y_train)\n",
    "    accuracy = model.score(X_test, y_test)\n",
    "    accuracy_scores.append(accuracy)\n",
    "    y_pred = model.predict(X_test)\n",
    "    fold_f1_score = f1_score(y_test, y_pred, average='weighted')\n",
    "    f1_scores.append(fold_f1_score)\n",
    "    matrix = confusion_matrix(y_test, y_pred)\n",
    "    confs += matrix\n",
    "\n",
    "\n",
    "mean_accuracy = np.mean(accuracy_scores)\n",
    "print(\"Mean accuracy for Logistic Regression:\", mean_accuracy)\n",
    "mean_weighted_f1_score = np.mean(f1_scores)\n",
    "print(\"Mean weighted-average F1-score across\", 10, \"folds for Logistic Regression:\", mean_weighted_f1_score)\n",
    "\n",
    "\n",
    "test_X = testdf[[\"diet\", \"period\",\"length\", \"taxonomy\"]]\n",
    "test_X = test_X.applymap(convert_to_one)\n",
    "test_X_array = test_X.values\n",
    "log_predicts = model.predict(test_X_array)\n",
    "log_df = pd.DataFrame({\"type\":log_predicts})\n",
    "log_df[\"type\"] = log_df[\"type\"].replace({1:'small theropod', 2:'sauropod', 3:'euornithopod', 4:\"large theropod\", 5:\"armoured dinosaur\", 6:\"ceratopsian\"})\n",
    "log_df.insert(0, 'Id', np.arange(1, len(log_predicts)+1))\n",
    "log_df.to_csv('prediction_log.csv', index=False)\n",
    "\n",
    "# Below i implemented SVM and calculated f1 and accuracy. I did 12000 iters to avoid convergence warning.\n",
    "model_svm = SVC(kernel=\"linear\", max_iter=12000)\n",
    "accuracy_scores_svm = []\n",
    "f1_scores_svm = []\n",
    "confs_svm = np.zeros((6,6))\n",
    "for train_index, test_index in skf.split(X_array, y_array):\n",
    "    X_train, X_test = X_array[train_index], X_array[test_index]\n",
    "    y_train, y_test = y_array[train_index], y_array[test_index]\n",
    "    model_svm.fit(X_train, y_train)\n",
    "    accuracy = model_svm.score(X_test, y_test)\n",
    "    accuracy_scores_svm.append(accuracy)\n",
    "    y_pred = model_svm.predict(X_test)\n",
    "    fold_f1_score = f1_score(y_test, y_pred, average='weighted')\n",
    "    f1_scores_svm.append(fold_f1_score)\n",
    "    matrix = confusion_matrix(y_test, y_pred)\n",
    "    confs_svm += matrix\n",
    "\n",
    "\n",
    "mean_accuracy_svm = np.mean(accuracy_scores_svm)\n",
    "print(\"Mean accuracy for SVM:\", mean_accuracy_svm)\n",
    "mean_weighted_f1_score_svm = np.mean(f1_scores_svm)\n",
    "print(\"Mean weighted-average F1-score across\", 10, \"folds for SVM:\", mean_weighted_f1_score_svm)\n",
    "\n",
    "#Below i calculated and visualized confussion maxrix.\n",
    "class_names = ['1', '2', '3', '4', '5', '6']\n",
    "fig, ax = plt.subplots()\n",
    "im = ax.imshow(confs, cmap='winter')\n",
    "\n",
    "ax.set_xticks(range(len(class_names)))\n",
    "ax.set_yticks(range(len(class_names)))\n",
    "ax.set_xticklabels(class_names)\n",
    "ax.set_yticklabels(class_names)\n",
    "cbar = ax.figure.colorbar(im, ax=ax)\n",
    "plt.title('Confusion Matrix For Logistic Regression')\n",
    "plt.xlabel('Predicted Labels')\n",
    "plt.ylabel('True Labels')\n",
    "\n",
    "for i in range(len(class_names)):\n",
    "    for j in range(len(class_names)):\n",
    "        text = ax.text(j, i, int(confs[i, j]), ha=\"center\", va=\"center\", color=\"black\")\n",
    "\n",
    "plt.show()\n",
    "\n",
    "\n",
    "figsvm, axsvm = plt.subplots()\n",
    "imsvm = axsvm.imshow(confs_svm, cmap='winter')\n",
    "axsvm.set_xticks(range(len(class_names)))\n",
    "axsvm.set_yticks(range(len(class_names)))\n",
    "axsvm.set_xticklabels(class_names)\n",
    "axsvm.set_yticklabels(class_names)\n",
    "cbarsvm = axsvm.figure.colorbar(imsvm, ax=axsvm)\n",
    "plt.title('Confusion Matrix For SVM')\n",
    "plt.xlabel('Predicted Labels')\n",
    "plt.ylabel('True Labels')\n",
    "\n",
    "for i in range(len(class_names)):\n",
    "    for j in range(len(class_names)):\n",
    "        text = axsvm.text(j, i, int(confs_svm[i, j]), ha=\"center\", va=\"center\", color=\"black\")\n",
    "\n",
    "plt.show()\n",
    "\n",
    "svm_predicts = model_svm.predict(test_X_array)\n",
    "svm_df = pd.DataFrame({\"type\":svm_predicts})\n",
    "svm_df[\"type\"] = svm_df[\"type\"].replace({1:'small theropod', 2:'sauropod', 3:'euornithopod', 4:\"large theropod\", 5:\"armoured dinosaur\", 6:\"ceratopsian\"})\n",
    "svm_df.insert(0, 'Id', np.arange(1, len(svm_predicts)+1))\n",
    "svm_df.to_csv('prediction_svm.csv', index=False)\n"
   ]
  },
  {
   "cell_type": "markdown",
   "id": "0326a883",
   "metadata": {},
   "source": [
    "As we see, SVM has a little bit better scores than Logistic Regression. Especially on class5:armoured dinosaur and class6:ceratopsian SVM has evidently better predictions than logistic regression in confussion matrix. \n",
    "I deleted the features that I thought were unnecessary and instead of directly numbering some of the features, I edited them a little and numbered them. For example, in \"taxonomy\" i just picked first 6 words which gave me the best results.\n",
    "One of the things that caught my eye while implementing Logistic Regression and SVM was that it is easier to misclassify y labels that are few in the train dataset.\n",
    "On SVM i tried all available kernels such as polynomial,RBF, linear etc. I get the best results with the linear kernel. this shows us that our data is  linearly separable or can be approximately linearly separable. For example when i used polynomial kernel, i got really bad results and when i used RBF i get worse results than linear kernel but better than polynomial kernel.\n",
    "Finally, i can say that i get better results with SVM rather than Logistic Regression."
   ]
  }
 ],
 "metadata": {
  "kernelspec": {
   "display_name": "Python 3 (ipykernel)",
   "language": "python",
   "name": "python3"
  },
  "language_info": {
   "codemirror_mode": {
    "name": "ipython",
    "version": 3
   },
   "file_extension": ".py",
   "mimetype": "text/x-python",
   "name": "python",
   "nbconvert_exporter": "python",
   "pygments_lexer": "ipython3",
   "version": "3.9.12"
  }
 },
 "nbformat": 4,
 "nbformat_minor": 5
}
