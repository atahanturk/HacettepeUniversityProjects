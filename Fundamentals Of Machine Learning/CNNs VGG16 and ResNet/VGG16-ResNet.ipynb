{
 "cells": [
  {
   "cell_type": "markdown",
   "metadata": {
    "id": "ZBS1Qs5dNWQP"
   },
   "source": [
    "# IMPORTANT: SINCE DOING TRAINING IN LOCAL CPU REALLY TAKES LONG TIME AND TIRE MY MACHINE, I USED COLAB. THATS WHY I USE THE FILE PATHS OF MY DRIVE. IF YOU ARE GOING TO TRY IT ON LOCAL COMPUTER PLEASE JUST SIMPLY CHANGE \"dataset_dir\" VARIABLE"
   ]
  },
  {
   "cell_type": "markdown",
   "metadata": {
    "id": "lcNarMW7N9Ip"
   },
   "source": [
    "## ABDULLAH ATAHAN TÜRK\n",
    "## 21827943"
   ]
  },
  {
   "cell_type": "code",
   "execution_count": 1,
   "metadata": {
    "colab": {
     "base_uri": "https://localhost:8080/"
    },
    "id": "P_4RuLzhonj3",
    "outputId": "d9da92ff-4f66-4241-b9bb-39b2869465fb"
   },
   "outputs": [
    {
     "name": "stdout",
     "output_type": "stream",
     "text": [
      "Mounted at /content/drive\n"
     ]
    }
   ],
   "source": [
    "from google.colab import drive\n",
    "drive.mount('/content/drive')"
   ]
  },
  {
   "cell_type": "markdown",
   "metadata": {
    "id": "Q9NkkivjknRN"
   },
   "source": [
    "Below here, I read datasets, do the steps, train the models and plot the graph"
   ]
  },
  {
   "cell_type": "code",
   "execution_count": 2,
   "metadata": {
    "colab": {
     "base_uri": "https://localhost:8080/"
    },
    "id": "3TiFaAKFokPF",
    "outputId": "3adc3f64-3fb8-4b8d-cbe8-66246ce56d5a"
   },
   "outputs": [
    {
     "name": "stderr",
     "output_type": "stream",
     "text": [
      "/usr/local/lib/python3.10/dist-packages/torchvision/models/_utils.py:208: UserWarning: The parameter 'pretrained' is deprecated since 0.13 and may be removed in the future, please use 'weights' instead.\n",
      "  warnings.warn(\n",
      "/usr/local/lib/python3.10/dist-packages/torchvision/models/_utils.py:223: UserWarning: Arguments other than a weight enum or `None` for 'weights' are deprecated since 0.13 and may be removed in the future. The current behavior is equivalent to passing `weights=ResNet50_Weights.IMAGENET1K_V1`. You can also use `weights=ResNet50_Weights.DEFAULT` to get the most up-to-date weights.\n",
      "  warnings.warn(msg)\n",
      "Downloading: \"https://download.pytorch.org/models/resnet50-0676ba61.pth\" to /root/.cache/torch/hub/checkpoints/resnet50-0676ba61.pth\n",
      "100%|██████████| 97.8M/97.8M [00:00<00:00, 137MB/s]\n",
      "/usr/local/lib/python3.10/dist-packages/torchvision/models/_utils.py:223: UserWarning: Arguments other than a weight enum or `None` for 'weights' are deprecated since 0.13 and may be removed in the future. The current behavior is equivalent to passing `weights=VGG16_Weights.IMAGENET1K_V1`. You can also use `weights=VGG16_Weights.DEFAULT` to get the most up-to-date weights.\n",
      "  warnings.warn(msg)\n",
      "Downloading: \"https://download.pytorch.org/models/vgg16-397923af.pth\" to /root/.cache/torch/hub/checkpoints/vgg16-397923af.pth\n",
      "100%|██████████| 528M/528M [00:03<00:00, 152MB/s]\n"
     ]
    },
    {
     "name": "stdout",
     "output_type": "stream",
     "text": [
      "Epoch 1/10\n",
      "----------\n",
      "Training VGG16: Loss: 0.4762 Acc: 0.7840\n",
      "Validation VGG16: Loss: 0.4812 Acc: 0.8000\n",
      "Training ResNet50: Loss: 0.5012 Acc: 0.7610\n",
      "Validation ResNet50: Loss: 0.4992 Acc: 0.8000\n",
      "Epoch 2/10\n",
      "----------\n",
      "Training VGG16: Loss: 0.3415 Acc: 0.8435\n",
      "Validation VGG16: Loss: 0.5284 Acc: 0.7533\n",
      "Training ResNet50: Loss: 0.4744 Acc: 0.8130\n",
      "Validation ResNet50: Loss: 0.4920 Acc: 0.8000\n",
      "Epoch 3/10\n",
      "----------\n",
      "Training VGG16: Loss: 0.2329 Acc: 0.8940\n",
      "Validation VGG16: Loss: 0.7332 Acc: 0.7800\n",
      "Training ResNet50: Loss: 0.4649 Acc: 0.8130\n",
      "Validation ResNet50: Loss: 0.4822 Acc: 0.8000\n",
      "Epoch 4/10\n",
      "----------\n",
      "Training VGG16: Loss: 0.1189 Acc: 0.9545\n",
      "Validation VGG16: Loss: 1.1291 Acc: 0.7867\n",
      "Training ResNet50: Loss: 0.4557 Acc: 0.8150\n",
      "Validation ResNet50: Loss: 0.4676 Acc: 0.8000\n",
      "Epoch 5/10\n",
      "----------\n",
      "Training VGG16: Loss: 0.0728 Acc: 0.9775\n",
      "Validation VGG16: Loss: 1.1176 Acc: 0.7267\n",
      "Training ResNet50: Loss: 0.4485 Acc: 0.8130\n",
      "Validation ResNet50: Loss: 0.4616 Acc: 0.8000\n",
      "Epoch 6/10\n",
      "----------\n",
      "Training VGG16: Loss: 0.0373 Acc: 0.9870\n",
      "Validation VGG16: Loss: 1.8101 Acc: 0.7867\n",
      "Training ResNet50: Loss: 0.4452 Acc: 0.8125\n",
      "Validation ResNet50: Loss: 0.4508 Acc: 0.8000\n",
      "Epoch 7/10\n",
      "----------\n",
      "Training VGG16: Loss: 0.0321 Acc: 0.9875\n",
      "Validation VGG16: Loss: 1.5249 Acc: 0.7533\n",
      "Training ResNet50: Loss: 0.4384 Acc: 0.8170\n",
      "Validation ResNet50: Loss: 0.4503 Acc: 0.8000\n",
      "Epoch 8/10\n",
      "----------\n",
      "Training VGG16: Loss: 0.0192 Acc: 0.9945\n",
      "Validation VGG16: Loss: 1.8256 Acc: 0.7800\n",
      "Training ResNet50: Loss: 0.4350 Acc: 0.8200\n",
      "Validation ResNet50: Loss: 0.4374 Acc: 0.8133\n",
      "Epoch 9/10\n",
      "----------\n",
      "Training VGG16: Loss: 0.0070 Acc: 0.9970\n",
      "Validation VGG16: Loss: 2.2056 Acc: 0.7867\n",
      "Training ResNet50: Loss: 0.4300 Acc: 0.8160\n",
      "Validation ResNet50: Loss: 0.4410 Acc: 0.8000\n",
      "Epoch 10/10\n",
      "----------\n",
      "Training VGG16: Loss: 0.0082 Acc: 0.9975\n",
      "Validation VGG16: Loss: 2.0253 Acc: 0.7667\n",
      "Training ResNet50: Loss: 0.4248 Acc: 0.8190\n",
      "Validation ResNet50: Loss: 0.4347 Acc: 0.8133\n"
     ]
    }
   ],
   "source": [
    "import torch\n",
    "from torchvision.models import vgg16, VGG16_Weights\n",
    "from torchvision.models import resnet50, ResNet50_Weights\n",
    "from torchvision import transforms, datasets\n",
    "import numpy as np\n",
    "import matplotlib.pyplot as plt\n",
    "from torch.utils.data import DataLoader\n",
    "import os\n",
    "import torch.nn as nn\n",
    "import torch.optim as optim\n",
    "import matplotlib.pyplot as plt\n",
    "import os\n",
    "\n",
    "#Firs I read datasets and adjusted cuda. I did all my homework in Colab, so thanks to colab I used GPU.\n",
    "dataset_dir = \"/content/drive/MyDrive\"\n",
    "train_dir = dataset_dir + \"/train\"\n",
    "valid_dir = dataset_dir + \"/valid\"\n",
    "test_dir = dataset_dir + \"/test\"\n",
    "device = torch.device('cuda' if torch.cuda.is_available() else 'cpu')\n",
    "\n",
    "\n",
    "data_transform = transforms.Compose([\n",
    "        transforms.Resize(256),\n",
    "        transforms.CenterCrop(224),\n",
    "        transforms.ToTensor(),\n",
    "        transforms.Normalize(mean=[0.485, 0.456, 0.406], std=[0.229, 0.224, 0.225])\n",
    "    ])\n",
    "\n",
    "# Here is a simple function to transform train and valid datasets.\n",
    "def load_data(data_dir, transform):\n",
    "    dataset = datasets.ImageFolder(data_dir, transform=transform)\n",
    "    return dataset\n",
    "\n",
    "\n",
    "train_dataset = load_data(train_dir, data_transform)\n",
    "valid_dataset = load_data(valid_dir, data_transform)\n",
    "train_loader = DataLoader(train_dataset, batch_size=32, shuffle=True)\n",
    "valid_loader = DataLoader(valid_dataset, batch_size=32, shuffle=False)\n",
    "\n",
    "# I choosed and initialized models for training. Then I deleted their last layers.\n",
    "resnet = resnet50(pretrained=True)\n",
    "vg16 = vgg16(pretrained=True)\n",
    "vg16.classifier = None\n",
    "resnet.fc = None\n",
    "# Freezed layers\n",
    "for param in vg16.parameters():\n",
    "    param.requires_grad = False\n",
    "\n",
    "for param in resnet.parameters():\n",
    "    param.requires_grad = False\n",
    "\n",
    "#Added traineble last layers according to Binary Classification.\n",
    "resnet.fc = nn.Sequential(\n",
    "    nn.Linear(2048, 1),\n",
    "    nn.Sigmoid()\n",
    ")\n",
    "resnet = resnet.to(device)\n",
    "\n",
    "vg16.classifier = torch.nn.Sequential(\n",
    "    torch.nn.Linear(25088, 4096),\n",
    "    torch.nn.ReLU(True),\n",
    "    torch.nn.Dropout(),\n",
    "    torch.nn.Linear(4096, 4096),\n",
    "    torch.nn.ReLU(True),\n",
    "    torch.nn.Dropout(),\n",
    "    torch.nn.Linear(4096, 1),\n",
    "    nn.Sigmoid()\n",
    ")\n",
    "vg16 = vg16.to(device)\n",
    "\n",
    "train_accs_vgg16 = []\n",
    "valid_accs_vgg16 = []\n",
    "train_accs_resnet = []\n",
    "valid_accs_resnet = []\n",
    "# Here is my function for training\n",
    "def train_model(dataloader, model, criterion, optimizer, device):\n",
    "    model.train()\n",
    "    running_loss = 0.0\n",
    "    running_corrects = 0\n",
    "    total = 0\n",
    "\n",
    "    for inputs, labels in dataloader:\n",
    "        inputs = inputs.to(device)\n",
    "        labels = torch.where(labels == 0, 1, 0)\n",
    "        labels = labels.unsqueeze(1).float().to(device)\n",
    "        optimizer.zero_grad()\n",
    "\n",
    "        outputs = model(inputs)\n",
    "        # I take threshold as 0.4 because most of the images were 0, and it causes imbalance. With choosing threshold low,\n",
    "        # I get some more balanced training. I did the same thing in the validation function too.\n",
    "        preds = (outputs > 0.4).float()\n",
    "        loss = criterion(outputs, labels)\n",
    "        loss.backward()\n",
    "        optimizer.step()\n",
    "\n",
    "        running_loss += loss.item() * inputs.size(0)\n",
    "        running_corrects += torch.sum(preds == labels.data)\n",
    "        total += labels.size(0)\n",
    "    # Calculated train losses and accuracies.\n",
    "    epoch_loss = running_loss / total\n",
    "    epoch_acc = running_corrects.double() / total\n",
    "\n",
    "    return epoch_loss, epoch_acc\n",
    "# Here is my validation function.\n",
    "def validate_model(dataloader, model, criterion, device):\n",
    "    model.eval()\n",
    "    running_loss = 0.0\n",
    "    running_corrects = 0\n",
    "    total = 0\n",
    "\n",
    "    with torch.no_grad():\n",
    "        for inputs, labels in dataloader:\n",
    "            inputs = inputs.to(device)\n",
    "            # Below, I converted classes to 0 and 1. I did the same thing in the validation too.\n",
    "            labels = torch.where(labels == 0, 1, 0)\n",
    "            labels = labels.unsqueeze(1).float().to(device)\n",
    "\n",
    "            outputs = model(inputs)\n",
    "            preds = (outputs > 0.4).float()\n",
    "            loss = criterion(outputs, labels)\n",
    "\n",
    "            running_loss += loss.item() * inputs.size(0)\n",
    "            running_corrects += torch.sum(preds == labels.data)\n",
    "            total += labels.size(0)\n",
    "\n",
    "    epoch_loss = running_loss / total\n",
    "    epoch_acc = running_corrects.double() / total\n",
    "\n",
    "    return epoch_loss, epoch_acc\n",
    "# Since we are doing Binary Classification, I used BCELoss. For optimizer, according to my researches using Adam is the best.\n",
    "num_epochs = 10\n",
    "criterion = torch.nn.BCELoss()\n",
    "optimizer_resnet = torch.optim.Adam(resnet.fc.parameters(), lr=0.0001)\n",
    "optimizer_vgg16 = torch.optim.Adam(vg16.classifier.parameters(), lr=0.0001)\n",
    "# Here is the training and validation parts with 10 epochs.\n",
    "for epoch in range(num_epochs):\n",
    "    print(f'Epoch {epoch+1}/{num_epochs}')\n",
    "    print('-' * 10)\n",
    "    \n",
    "    train_lossvgg, train_accvgg = train_model(train_loader, vg16, criterion, optimizer_vgg16, device)\n",
    "    valid_lossvgg, valid_accvgg = validate_model(valid_loader, vg16, criterion, device)\n",
    "\n",
    "    train_accs_vgg16.append(train_accvgg)\n",
    "    valid_accs_vgg16.append(valid_accvgg)\n",
    "\n",
    "    print(f'Training VGG16: Loss: {train_lossvgg:.4f} Acc: {train_accvgg:.4f}')\n",
    "    print(f'Validation VGG16: Loss: {valid_lossvgg:.4f} Acc: {valid_accvgg:.4f}')\n",
    "    # I saved weights to use them later in the testing.\n",
    "    torch.save({\n",
    "        'epoch': epoch,\n",
    "        'model_state_dict': vg16.state_dict(),\n",
    "        'optimizer_state_dict': optimizer_vgg16.state_dict(),\n",
    "        'loss': train_lossvgg,\n",
    "    }, f\"/content/drive/MyDrive/vgg16_epoch_{epoch+1}_new.pt\")\n",
    "\n",
    "    train_loss, train_acc = train_model(train_loader, resnet, criterion, optimizer_resnet, device)\n",
    "    valid_loss, valid_acc = validate_model(valid_loader, resnet, criterion, device)\n",
    "    train_accs_resnet.append(train_acc)\n",
    "    valid_accs_resnet.append(valid_acc)\n",
    "\n",
    "    print(f'Training ResNet50: Loss: {train_loss:.4f} Acc: {train_acc:.4f}')\n",
    "    print(f'Validation ResNet50: Loss: {valid_loss:.4f} Acc: {valid_acc:.4f}')\n",
    "\n",
    "    torch.save({\n",
    "        'epoch': epoch,\n",
    "        'model_state_dict': resnet.state_dict(),\n",
    "        'optimizer_state_dict': optimizer_resnet.state_dict(),\n",
    "        'loss': train_loss,\n",
    "    }, f\"/content/drive/MyDrive/resnet_epoch_{epoch+1}_new.pt\")\n"
   ]
  },
  {
   "cell_type": "code",
   "execution_count": 11,
   "metadata": {
    "colab": {
     "base_uri": "https://localhost:8080/",
     "height": 472
    },
    "id": "kB5ekFL0UBf6",
    "outputId": "4b90a2c2-1ba7-4252-81a7-c2fcd8168540"
   },
   "outputs": [
    {
     "data": {
      "image/png": "[encoded data removed]",
      "text/plain": [
       "<Figure size 640x480 with 1 Axes>"
      ]
     },
     "metadata": {},
     "output_type": "display_data"
    }
   ],
   "source": [
    "# Since the lists are on the GPU, I need to move them to CPU to plot them to graph. So in here, I moved my accuracy\n",
    "# lists to CPU.\n",
    "train_accs_resnet_cpu = [t.cpu().item() for t in train_accs_resnet]\n",
    "valid_accs_resnet_cpu = [t.cpu().item() for t in valid_accs_resnet]\n",
    "train_accs_vgg16_cpu = [t.cpu().item() for t in train_accs_vgg16]\n",
    "valid_accs_vgg16_cpu = [t.cpu().item() for t in valid_accs_vgg16]\n",
    "\n",
    "epoch_number = range(1, 11)\n",
    "\n",
    "# Plot training accuracy for both models\n",
    "plt.plot(epoch_number, train_accs_vgg16_cpu, label='Training accuracy (VGG16)', marker='o')\n",
    "plt.plot(epoch_number, train_accs_resnet_cpu, label='Training accuracy (ResNet)', marker='o')\n",
    "\n",
    "# Plot validation accuracy for both models\n",
    "plt.plot(epoch_number, valid_accs_vgg16_cpu, label='Validation accuracy (VGG16)', marker='o')\n",
    "plt.plot(epoch_number, valid_accs_resnet_cpu, label='Validation accuracy (ResNet)', marker='o')\n",
    "\n",
    "plt.title('Training and Validation Accuracy')\n",
    "plt.xlabel('Epochs')\n",
    "plt.ylabel('Accuracy')\n",
    "plt.legend()\n",
    "\n",
    "\n",
    "plt.show()\n"
   ]
  },
  {
   "cell_type": "markdown",
   "metadata": {
    "id": "RuO1uAESlxuQ"
   },
   "source": [
    "Above here, we can see our graph. As expected, training accuracy of VGG16 increase all the time and get really well at the end. But training accuracy of Resnet not improved well. Their validation accuracies are not improved, even sometimes they decreased. I think one of the reason was imbalanced data, but I think I did something a little wrong too but I coulnd't find my mistake. Still, I think my results are not bad even they are not the best."
   ]
  },
  {
   "cell_type": "code",
   "execution_count": 25,
   "metadata": {
    "colab": {
     "base_uri": "https://localhost:8080/"
    },
    "id": "ew4yBP4KTFAm",
    "outputId": "fba0a50b-8b9b-4ab1-af4d-d39dec11cc95"
   },
   "outputs": [
    {
     "name": "stdout",
     "output_type": "stream",
     "text": [
      "Labeling is done\n"
     ]
    }
   ],
   "source": [
    "from PIL import Image\n",
    "import csv\n",
    "\n",
    "# Now load the state dict\n",
    "\n",
    "state_dict_vgg16 = torch.load('/content/drive/MyDrive/vgg16_epoch_9_new.pt')\n",
    "vg16.load_state_dict(state_dict_vgg16['model_state_dict'])\n",
    "vg16.eval()  # Set the model to evaluation mode\n",
    "\n",
    "# Loop over all images in the 'test' directory\n",
    "with open('predictions_vgg16.csv', 'w', newline='') as file:\n",
    "    writer = csv.writer(file)\n",
    "    writer.writerow([\"Id\", \"Label\"])  # Write header\n",
    "\n",
    "    for filename in os.listdir(test_dir):\n",
    "        \n",
    "        img = Image.open(os.path.join(test_dir, filename))\n",
    "\n",
    "        # Apply transformations\n",
    "        img_t = data_transform(img)\n",
    "\n",
    "        # Unsqueeze dimensions to simulate a batch\n",
    "        img_u = img_t.unsqueeze(0).to(device)\n",
    "\n",
    "        # Get predictions\n",
    "        with torch.no_grad():\n",
    "            out = vg16(img_u)\n",
    "\n",
    "        # Here i choose threshold as 0.2 because in the train dataset, only 1/5 of the images were 1 and rest of them was 0.\n",
    "        preds = (out > 0.2).int()\n",
    "\n",
    "\n",
    "        writer.writerow([filename, preds.item()])\n",
    "\n",
    "print(\"Labeling is done\")"
   ]
  },
  {
   "cell_type": "code",
   "execution_count": 26,
   "metadata": {
    "colab": {
     "base_uri": "https://localhost:8080/"
    },
    "id": "JcTng8M0cxJs",
    "outputId": "35dd5602-a321-4061-965c-c583cd30f07f"
   },
   "outputs": [
    {
     "name": "stdout",
     "output_type": "stream",
     "text": [
      "Labeling is done\n"
     ]
    }
   ],
   "source": [
    "state_dict_resnet50= torch.load('/content/drive/MyDrive/resnet_epoch_9_new.pt')\n",
    "resnet.load_state_dict(state_dict_resnet50['model_state_dict'])\n",
    "resnet.eval()  # Set the model to evaluation mode\n",
    "\n",
    "# Loop over all images in the 'test' directory\n",
    "with open('predictions_resnet.csv', 'w', newline='') as file:\n",
    "    writer = csv.writer(file)\n",
    "    writer.writerow([\"Id\", \"Label\"])  # Write header\n",
    "\n",
    "    for filename in os.listdir(test_dir):\n",
    "\n",
    "        img = Image.open(os.path.join(test_dir, filename))\n",
    "\n",
    "        # Apply transformations\n",
    "        img_t = data_transform(img)\n",
    "\n",
    "        # Unsqueeze dimensions to simulate a batch\n",
    "        img_u = img_t.unsqueeze(0).to(device)\n",
    "\n",
    "        # Get predictions\n",
    "        with torch.no_grad():\n",
    "            out = vg16(img_u)\n",
    "\n",
    "        # Here i choose threshold as 0.2 because in the train dataset, only 1/5 of the images were 1 and rest of them was 0.\n",
    "        preds = (out > 0.2).int()\n",
    "\n",
    "\n",
    "        writer.writerow([filename, preds.item()])\n",
    "\n",
    "print(\"Labeling is done\")"
   ]
  },
  {
   "cell_type": "markdown",
   "metadata": {},
   "source": [
    "So for improving my model, I decreased the learning rate and adjusted the threshold value to 0.4 in training and validation and to 0.2 in testing. With these thresholds I got better results. Because nearly %80 of the images belong to benign tumors. So for a imbalanced dataset, adjusting the threshold according to that balance is a good thing to improve the accuracy score."
   ]
  }
 ],
 "metadata": {
  "accelerator": "GPU",
  "colab": {
   "gpuType": "T4",
   "machine_shape": "hm",
   "provenance": []
  },
  "gpuClass": "standard",
  "kernelspec": {
   "display_name": "Python 3 (ipykernel)",
   "language": "python",
   "name": "python3"
  },
  "language_info": {
   "codemirror_mode": {
    "name": "ipython",
    "version": 3
   },
   "file_extension": ".py",
   "mimetype": "text/x-python",
   "name": "python",
   "nbconvert_exporter": "python",
   "pygments_lexer": "ipython3",
   "version": "3.9.12"
  }
 },
 "nbformat": 4,
 "nbformat_minor": 1
}
